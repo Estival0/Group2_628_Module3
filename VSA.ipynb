{
  "nbformat": 4,
  "nbformat_minor": 0,
  "metadata": {
    "colab": {
      "name": "VSA.ipynb",
      "provenance": []
    },
    "kernelspec": {
      "name": "python3",
      "display_name": "Python 3"
    },
    "language_info": {
      "name": "python"
    }
  },
  "cells": [
    {
      "cell_type": "code",
      "metadata": {
        "colab": {
          "base_uri": "https://localhost:8080/"
        },
        "id": "mWBlax0oOCS0",
        "outputId": "109e5f77-aa6e-4ac9-8bfd-2729701dbac5"
      },
      "source": [
        "from google.colab import drive\n",
        "drive.mount('/content/drive')"
      ],
      "execution_count": null,
      "outputs": [
        {
          "output_type": "stream",
          "name": "stdout",
          "text": [
            "Drive already mounted at /content/drive; to attempt to forcibly remount, call drive.mount(\"/content/drive\", force_remount=True).\n"
          ]
        }
      ]
    },
    {
      "cell_type": "code",
      "metadata": {
        "id": "fv-yYRtCOZIw"
      },
      "source": [
        "pip install vaderSentiment"
      ],
      "execution_count": null,
      "outputs": []
    },
    {
      "cell_type": "code",
      "metadata": {
        "id": "yWkvNnFto5Th"
      },
      "source": [
        "# from vaderSentiment.vaderSentiment module.\n",
        "from vaderSentiment.vaderSentiment import SentimentIntensityAnalyzer\n",
        "analyzer = SentimentIntensityAnalyzer()\n",
        "\n",
        "import numpy as np\n",
        "import pandas as pd"
      ],
      "execution_count": null,
      "outputs": []
    },
    {
      "cell_type": "code",
      "metadata": {
        "id": "6QHVYdJOqFJp",
        "colab": {
          "base_uri": "https://localhost:8080/",
          "height": 206
        },
        "outputId": "2e53069c-3ce2-4b95-c19e-2dc3359efd0e"
      },
      "source": [
        "df = pd.read_csv('/content/drive/Shareddrives/yelp_datasets/Ice_cream_data/topic.csv')\n",
        "df = df.drop(columns=['Unnamed: 0', 'funny', 'cool','review_id','Unnamed: 0.1','index'], axis=1)\n",
        "df.head()"
      ],
      "execution_count": null,
      "outputs": [
        {
          "output_type": "execute_result",
          "data": {
            "text/html": [
              "<div>\n",
              "<style scoped>\n",
              "    .dataframe tbody tr th:only-of-type {\n",
              "        vertical-align: middle;\n",
              "    }\n",
              "\n",
              "    .dataframe tbody tr th {\n",
              "        vertical-align: top;\n",
              "    }\n",
              "\n",
              "    .dataframe thead th {\n",
              "        text-align: right;\n",
              "    }\n",
              "</style>\n",
              "<table border=\"1\" class=\"dataframe\">\n",
              "  <thead>\n",
              "    <tr style=\"text-align: right;\">\n",
              "      <th></th>\n",
              "      <th>user_id</th>\n",
              "      <th>business_id</th>\n",
              "      <th>stars</th>\n",
              "      <th>useful</th>\n",
              "      <th>text</th>\n",
              "      <th>date</th>\n",
              "      <th>Dominant_Topic</th>\n",
              "      <th>Topic_Perc_Contrib</th>\n",
              "      <th>Keywords</th>\n",
              "    </tr>\n",
              "  </thead>\n",
              "  <tbody>\n",
              "    <tr>\n",
              "      <th>0</th>\n",
              "      <td>fk154iSzQpjilunR4je0HA</td>\n",
              "      <td>pBc08vsn3u5xm-8NqYigGA</td>\n",
              "      <td>4.0</td>\n",
              "      <td>0</td>\n",
              "      <td>Pumpkin spice cookie sandwich 6.95\\n sooooo go...</td>\n",
              "      <td>2018-01-01 00:13:05</td>\n",
              "      <td>3.0</td>\n",
              "      <td>0.9812</td>\n",
              "      <td>chocolate, cookies, place, best, cookie, pizza...</td>\n",
              "    </tr>\n",
              "    <tr>\n",
              "      <th>1</th>\n",
              "      <td>fk154iSzQpjilunR4je0HA</td>\n",
              "      <td>7aYk8eyCJvM_eyFZy7uMcA</td>\n",
              "      <td>2.0</td>\n",
              "      <td>0</td>\n",
              "      <td>regular dipped cone 4.75 \\nLeft: earl grey rig...</td>\n",
              "      <td>2018-01-01 00:22:28</td>\n",
              "      <td>0.0</td>\n",
              "      <td>0.6169</td>\n",
              "      <td>tea, matcha, place, like, soft, time, serve, b...</td>\n",
              "    </tr>\n",
              "    <tr>\n",
              "      <th>2</th>\n",
              "      <td>Kb9rX2bCmM0SMnABpXxkoA</td>\n",
              "      <td>PrsvO1rzkgg6qFizlAoEtg</td>\n",
              "      <td>5.0</td>\n",
              "      <td>0</td>\n",
              "      <td>Their cannolis are the best!!  The cookies are...</td>\n",
              "      <td>2018-01-01 01:11:55</td>\n",
              "      <td>3.0</td>\n",
              "      <td>0.9341</td>\n",
              "      <td>chocolate, cookies, place, best, cookie, pizza...</td>\n",
              "    </tr>\n",
              "    <tr>\n",
              "      <th>3</th>\n",
              "      <td>tGTOeJnKC3SdomdduOifcQ</td>\n",
              "      <td>NCg6KF_MyV-9iYnBQHAChw</td>\n",
              "      <td>5.0</td>\n",
              "      <td>0</td>\n",
              "      <td>Their cupcakes are amazing. I get an assortmen...</td>\n",
              "      <td>2018-01-01 01:46:11</td>\n",
              "      <td>3.0</td>\n",
              "      <td>0.9503</td>\n",
              "      <td>chocolate, cookies, place, best, cookie, pizza...</td>\n",
              "    </tr>\n",
              "    <tr>\n",
              "      <th>4</th>\n",
              "      <td>yhvjhKyvlueJ2rfdUZZuNQ</td>\n",
              "      <td>1iHzZrlZPsmWipnf0yO-2g</td>\n",
              "      <td>3.0</td>\n",
              "      <td>0</td>\n",
              "      <td>Great ice cream but, don't use the drive throu...</td>\n",
              "      <td>2018-01-01 02:29:25</td>\n",
              "      <td>2.0</td>\n",
              "      <td>0.6196</td>\n",
              "      <td>food, order, good, service, time, place, order...</td>\n",
              "    </tr>\n",
              "  </tbody>\n",
              "</table>\n",
              "</div>"
            ],
            "text/plain": [
              "                  user_id  ...                                           Keywords\n",
              "0  fk154iSzQpjilunR4je0HA  ...  chocolate, cookies, place, best, cookie, pizza...\n",
              "1  fk154iSzQpjilunR4je0HA  ...  tea, matcha, place, like, soft, time, serve, b...\n",
              "2  Kb9rX2bCmM0SMnABpXxkoA  ...  chocolate, cookies, place, best, cookie, pizza...\n",
              "3  tGTOeJnKC3SdomdduOifcQ  ...  chocolate, cookies, place, best, cookie, pizza...\n",
              "4  yhvjhKyvlueJ2rfdUZZuNQ  ...  food, order, good, service, time, place, order...\n",
              "\n",
              "[5 rows x 9 columns]"
            ]
          },
          "metadata": {},
          "execution_count": 10
        }
      ]
    },
    {
      "cell_type": "code",
      "metadata": {
        "id": "lfjhBmGKsRPz"
      },
      "source": [
        "# use vader to analyze\n",
        "df['scores'] = df['text'].apply(lambda text: analyzer.polarity_scores(text))\n",
        "df.head()"
      ],
      "execution_count": null,
      "outputs": []
    },
    {
      "cell_type": "code",
      "metadata": {
        "id": "epBMHKN1tFEd"
      },
      "source": [
        "# get compound score\n",
        "df['compound'] = df['scores'].apply(lambda score_dict: score_dict['compound'])"
      ],
      "execution_count": null,
      "outputs": []
    },
    {
      "cell_type": "code",
      "metadata": {
        "id": "CF4GyvNvw2yR"
      },
      "source": [
        "df['sentiment_type']=''\n",
        "for i in range(len(df)):\n",
        "  if df['compound'][i] > 0.05:\n",
        "    df['sentiment_type'][i] = 'POSITIVE'\n",
        "  elif df['compound'][i] < -0.05:\n",
        "    df['sentiment_type'][i] = 'NEGATIVE'\n",
        "  else:\n",
        "    df['sentiment_type'][i] = 'NEUTRAL'"
      ],
      "execution_count": null,
      "outputs": []
    },
    {
      "cell_type": "code",
      "metadata": {
        "colab": {
          "base_uri": "https://localhost:8080/"
        },
        "id": "tiwEcpx2yxrW",
        "outputId": "a7d014d7-270d-4900-bea6-aed4e0876588"
      },
      "source": [
        "df.groupby('stars')['compound'].mean()"
      ],
      "execution_count": null,
      "outputs": [
        {
          "output_type": "execute_result",
          "data": {
            "text/plain": [
              "stars\n",
              "1.0   -0.173219\n",
              "2.0    0.244761\n",
              "3.0    0.585530\n",
              "4.0    0.833924\n",
              "5.0    0.877591\n",
              "Name: compound, dtype: float64"
            ]
          },
          "metadata": {},
          "execution_count": 14
        }
      ]
    },
    {
      "cell_type": "code",
      "metadata": {
        "id": "vxNXzJrcPMC0",
        "colab": {
          "base_uri": "https://localhost:8080/"
        },
        "outputId": "e95aaa51-a1d7-4e25-ada8-847db80f0fc0"
      },
      "source": [
        "df['topic']=''\n",
        "for i in range(len(df)):\n",
        "  if df['Dominant_Topic'][i] == 0:\n",
        "    df['topic'][i] = 'DRINK'\n",
        "  elif df['Dominant_Topic'][i] == 1:\n",
        "    df['topic'][i] = 'ICECREAM'\n",
        "  elif df['Dominant_Topic'][i] == 2:\n",
        "    df['topic'][i] = 'SERVICE'\n",
        "  else:\n",
        "    df['topic'][i] = 'FOOD'"
      ],
      "execution_count": null,
      "outputs": [
        {
          "output_type": "stream",
          "name": "stderr",
          "text": [
            "/usr/local/lib/python3.7/dist-packages/ipykernel_launcher.py:10: SettingWithCopyWarning: \n",
            "A value is trying to be set on a copy of a slice from a DataFrame\n",
            "\n",
            "See the caveats in the documentation: https://pandas.pydata.org/pandas-docs/stable/user_guide/indexing.html#returning-a-view-versus-a-copy\n",
            "  # Remove the CWD from sys.path while we load stuff.\n",
            "/usr/local/lib/python3.7/dist-packages/ipykernel_launcher.py:4: SettingWithCopyWarning: \n",
            "A value is trying to be set on a copy of a slice from a DataFrame\n",
            "\n",
            "See the caveats in the documentation: https://pandas.pydata.org/pandas-docs/stable/user_guide/indexing.html#returning-a-view-versus-a-copy\n",
            "  after removing the cwd from sys.path.\n",
            "/usr/local/lib/python3.7/dist-packages/ipykernel_launcher.py:8: SettingWithCopyWarning: \n",
            "A value is trying to be set on a copy of a slice from a DataFrame\n",
            "\n",
            "See the caveats in the documentation: https://pandas.pydata.org/pandas-docs/stable/user_guide/indexing.html#returning-a-view-versus-a-copy\n",
            "  \n",
            "/usr/local/lib/python3.7/dist-packages/ipykernel_launcher.py:6: SettingWithCopyWarning: \n",
            "A value is trying to be set on a copy of a slice from a DataFrame\n",
            "\n",
            "See the caveats in the documentation: https://pandas.pydata.org/pandas-docs/stable/user_guide/indexing.html#returning-a-view-versus-a-copy\n",
            "  \n"
          ]
        }
      ]
    },
    {
      "cell_type": "code",
      "metadata": {
        "id": "CQG8sqoTPbBP",
        "colab": {
          "base_uri": "https://localhost:8080/",
          "height": 396
        },
        "outputId": "77a17d82-e173-4b16-a7b8-c1b6197ef620"
      },
      "source": [
        "df.head()"
      ],
      "execution_count": null,
      "outputs": [
        {
          "output_type": "execute_result",
          "data": {
            "text/html": [
              "<div>\n",
              "<style scoped>\n",
              "    .dataframe tbody tr th:only-of-type {\n",
              "        vertical-align: middle;\n",
              "    }\n",
              "\n",
              "    .dataframe tbody tr th {\n",
              "        vertical-align: top;\n",
              "    }\n",
              "\n",
              "    .dataframe thead th {\n",
              "        text-align: right;\n",
              "    }\n",
              "</style>\n",
              "<table border=\"1\" class=\"dataframe\">\n",
              "  <thead>\n",
              "    <tr style=\"text-align: right;\">\n",
              "      <th></th>\n",
              "      <th>Unnamed: 0</th>\n",
              "      <th>user_id</th>\n",
              "      <th>business_id</th>\n",
              "      <th>stars</th>\n",
              "      <th>useful</th>\n",
              "      <th>text</th>\n",
              "      <th>date</th>\n",
              "      <th>Dominant_Topic</th>\n",
              "      <th>Topic_Perc_Contrib</th>\n",
              "      <th>Keywords</th>\n",
              "      <th>scores</th>\n",
              "      <th>compound</th>\n",
              "      <th>sentiment_type</th>\n",
              "      <th>topic</th>\n",
              "    </tr>\n",
              "  </thead>\n",
              "  <tbody>\n",
              "    <tr>\n",
              "      <th>0</th>\n",
              "      <td>0</td>\n",
              "      <td>fk154iSzQpjilunR4je0HA</td>\n",
              "      <td>pBc08vsn3u5xm-8NqYigGA</td>\n",
              "      <td>4.0</td>\n",
              "      <td>0</td>\n",
              "      <td>Pumpkin spice cookie sandwich 6.95\\n sooooo go...</td>\n",
              "      <td>2018-01-01 00:13:05</td>\n",
              "      <td>3.0</td>\n",
              "      <td>0.9812</td>\n",
              "      <td>chocolate, cookies, place, best, cookie, pizza...</td>\n",
              "      <td>{'neg': 0.041, 'neu': 0.735, 'pos': 0.224, 'co...</td>\n",
              "      <td>0.9491</td>\n",
              "      <td>POSITIVE</td>\n",
              "      <td>FOOD</td>\n",
              "    </tr>\n",
              "    <tr>\n",
              "      <th>1</th>\n",
              "      <td>1</td>\n",
              "      <td>fk154iSzQpjilunR4je0HA</td>\n",
              "      <td>7aYk8eyCJvM_eyFZy7uMcA</td>\n",
              "      <td>2.0</td>\n",
              "      <td>0</td>\n",
              "      <td>regular dipped cone 4.75 \\nLeft: earl grey rig...</td>\n",
              "      <td>2018-01-01 00:22:28</td>\n",
              "      <td>0.0</td>\n",
              "      <td>0.6169</td>\n",
              "      <td>tea, matcha, place, like, soft, time, serve, b...</td>\n",
              "      <td>{'neg': 0.042, 'neu': 0.8, 'pos': 0.158, 'comp...</td>\n",
              "      <td>0.9710</td>\n",
              "      <td>POSITIVE</td>\n",
              "      <td>DRINK</td>\n",
              "    </tr>\n",
              "    <tr>\n",
              "      <th>2</th>\n",
              "      <td>2</td>\n",
              "      <td>Kb9rX2bCmM0SMnABpXxkoA</td>\n",
              "      <td>PrsvO1rzkgg6qFizlAoEtg</td>\n",
              "      <td>5.0</td>\n",
              "      <td>0</td>\n",
              "      <td>Their cannolis are the best!!  The cookies are...</td>\n",
              "      <td>2018-01-01 01:11:55</td>\n",
              "      <td>3.0</td>\n",
              "      <td>0.9341</td>\n",
              "      <td>chocolate, cookies, place, best, cookie, pizza...</td>\n",
              "      <td>{'neg': 0.0, 'neu': 0.658, 'pos': 0.342, 'comp...</td>\n",
              "      <td>0.8114</td>\n",
              "      <td>POSITIVE</td>\n",
              "      <td>FOOD</td>\n",
              "    </tr>\n",
              "    <tr>\n",
              "      <th>3</th>\n",
              "      <td>3</td>\n",
              "      <td>tGTOeJnKC3SdomdduOifcQ</td>\n",
              "      <td>NCg6KF_MyV-9iYnBQHAChw</td>\n",
              "      <td>5.0</td>\n",
              "      <td>0</td>\n",
              "      <td>Their cupcakes are amazing. I get an assortmen...</td>\n",
              "      <td>2018-01-01 01:46:11</td>\n",
              "      <td>3.0</td>\n",
              "      <td>0.9503</td>\n",
              "      <td>chocolate, cookies, place, best, cookie, pizza...</td>\n",
              "      <td>{'neg': 0.101, 'neu': 0.801, 'pos': 0.098, 'co...</td>\n",
              "      <td>-0.0258</td>\n",
              "      <td>NEUTRAL</td>\n",
              "      <td>FOOD</td>\n",
              "    </tr>\n",
              "    <tr>\n",
              "      <th>4</th>\n",
              "      <td>4</td>\n",
              "      <td>yhvjhKyvlueJ2rfdUZZuNQ</td>\n",
              "      <td>1iHzZrlZPsmWipnf0yO-2g</td>\n",
              "      <td>3.0</td>\n",
              "      <td>0</td>\n",
              "      <td>Great ice cream but, don't use the drive throu...</td>\n",
              "      <td>2018-01-01 02:29:25</td>\n",
              "      <td>2.0</td>\n",
              "      <td>0.6196</td>\n",
              "      <td>food, order, good, service, time, place, order...</td>\n",
              "      <td>{'neg': 0.156, 'neu': 0.763, 'pos': 0.081, 'co...</td>\n",
              "      <td>-0.5175</td>\n",
              "      <td>NEGATIVE</td>\n",
              "      <td>SERVICE</td>\n",
              "    </tr>\n",
              "  </tbody>\n",
              "</table>\n",
              "</div>"
            ],
            "text/plain": [
              "   Unnamed: 0                 user_id  ... sentiment_type    topic\n",
              "0           0  fk154iSzQpjilunR4je0HA  ...       POSITIVE     FOOD\n",
              "1           1  fk154iSzQpjilunR4je0HA  ...       POSITIVE    DRINK\n",
              "2           2  Kb9rX2bCmM0SMnABpXxkoA  ...       POSITIVE     FOOD\n",
              "3           3  tGTOeJnKC3SdomdduOifcQ  ...        NEUTRAL     FOOD\n",
              "4           4  yhvjhKyvlueJ2rfdUZZuNQ  ...       NEGATIVE  SERVICE\n",
              "\n",
              "[5 rows x 14 columns]"
            ]
          },
          "metadata": {},
          "execution_count": 11
        }
      ]
    },
    {
      "cell_type": "code",
      "metadata": {
        "id": "2njJaafzuuQ0"
      },
      "source": [
        "df.to_csv('/content/drive/Shareddrives/yelp_datasets/Ice_cream_data/Sentiment_analysis.csv')"
      ],
      "execution_count": null,
      "outputs": []
    }
  ]
}