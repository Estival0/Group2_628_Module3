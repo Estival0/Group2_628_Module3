{
 "cells": [
  {
   "cell_type": "code",
   "execution_count": 21,
   "id": "8f3717d9",
   "metadata": {},
   "outputs": [],
   "source": [
    "import pandas as pd\n",
    "import xlrd\n",
    "from textblob import TextBlob\n",
    "import os"
   ]
  },
  {
   "cell_type": "code",
   "execution_count": 22,
   "id": "2c31aebb",
   "metadata": {},
   "outputs": [],
   "source": [
    "review = pd.read_csv('/Users/maritmcquaig/Documents/stat628/module3/ic_review.csv')"
   ]
  },
  {
   "cell_type": "code",
   "execution_count": 23,
   "id": "f22dd153",
   "metadata": {},
   "outputs": [],
   "source": [
    "tip = pd.read_csv(\"/Users/maritmcquaig/Documents/stat628/module3/ic_tip.csv\")"
   ]
  },
  {
   "cell_type": "code",
   "execution_count": 24,
   "id": "698e52cd",
   "metadata": {},
   "outputs": [],
   "source": [
    "business = pd.read_excel(r\"/Users/maritmcquaig/Documents/stat628/module3/all_ice_cream_shops.xls\")"
   ]
  },
  {
   "cell_type": "code",
   "execution_count": 25,
   "id": "a72a0334",
   "metadata": {},
   "outputs": [],
   "source": [
    "#Get IDs of businesses that don't sell frozen dairy\n",
    "ids = []\n",
    "\n",
    "not_ic = [\"Starbucks\", \"Coffee\", \"Juice\", \"Horton\", \"Smoothie\", \"Dunkin\", \"Cinnabon\", \"Chinese Restaurant\"]\n",
    "\n",
    "for i in range(len(business)):\n",
    "    if any(x in business.name[i] for x in not_ic):\n",
    "        ids.append(business.business_id[i])"
   ]
  },
  {
   "cell_type": "code",
   "execution_count": 26,
   "id": "ac3b9548",
   "metadata": {},
   "outputs": [],
   "source": [
    "#dropping these businesses from business\n",
    "for i in range(len(business)):\n",
    "    if any(x in business.business_id[i] for x in ids):\n",
    "        business = business.drop([i])"
   ]
  },
  {
   "cell_type": "code",
   "execution_count": 27,
   "id": "6f898283",
   "metadata": {},
   "outputs": [],
   "source": [
    "#dropping these businesses from review\n",
    "for i in range(len(review)):\n",
    "    if any(x in review.business_id[i] for x in ids):\n",
    "        review = review.drop([i])"
   ]
  },
  {
   "cell_type": "code",
   "execution_count": 28,
   "id": "ed81c3fb",
   "metadata": {},
   "outputs": [],
   "source": [
    "#dropping these businesses from tip\n",
    "for i in range(len(tip)):\n",
    "    if any(x in tip.business_id[i] for x in ids):\n",
    "        tip = tip.drop([i])"
   ]
  },
  {
   "cell_type": "code",
   "execution_count": 29,
   "id": "a36a43cd",
   "metadata": {},
   "outputs": [],
   "source": [
    "business.to_csv('clean_business.csv',index=False)\n",
    "tip.to_csv('clean_tip.csv', index=False)\n",
    "review.to_csv('clean_review.csv', index=False)"
   ]
  },
  {
   "cell_type": "code",
   "execution_count": null,
   "id": "3afa9f33",
   "metadata": {},
   "outputs": [],
   "source": [
    "# review_en = pd.DataFrame()\n",
    "# not_en = pd.DataFrame()\n",
    "\n",
    "# for i in range(len(review.text)):\n",
    "#     if TextBlob(review['text'][i]).detect_language() == 'en':\n",
    "#         review_en = review_en.append(review.iloc[i])\n",
    "#     else:\n",
    "#         not_en = not_en.append(review.iloc[i])"
   ]
  },
  {
   "cell_type": "code",
   "execution_count": null,
   "id": "db9aea12",
   "metadata": {},
   "outputs": [],
   "source": [
    "#TextBlob(review['text'][0]).detect_language()\n"
   ]
  }
 ],
 "metadata": {
  "kernelspec": {
   "display_name": "Python 3 (ipykernel)",
   "language": "python",
   "name": "python3"
  },
  "language_info": {
   "codemirror_mode": {
    "name": "ipython",
    "version": 3
   },
   "file_extension": ".py",
   "mimetype": "text/x-python",
   "name": "python",
   "nbconvert_exporter": "python",
   "pygments_lexer": "ipython3",
   "version": "3.8.1"
  }
 },
 "nbformat": 4,
 "nbformat_minor": 5
}
